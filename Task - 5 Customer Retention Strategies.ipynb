{
 "cells": [
  {
   "cell_type": "markdown",
   "id": "8f1a19c6",
   "metadata": {},
   "source": [
    "# Task - 5\n",
    "# Customer Retention Strategies"
   ]
  },
  {
   "cell_type": "code",
   "execution_count": 3,
   "id": "cb0f153a",
   "metadata": {},
   "outputs": [],
   "source": [
    "import pandas as pd\n",
    "import numpy as np\n",
    "from sklearn.ensemble import RandomForestClassifier"
   ]
  },
  {
   "cell_type": "code",
   "execution_count": 4,
   "id": "0b9037f7",
   "metadata": {},
   "outputs": [],
   "source": [
    "df=pd.read_csv(\"Telco-Customer-Churn.csv\")"
   ]
  },
  {
   "cell_type": "code",
   "execution_count": 5,
   "id": "c68a419d",
   "metadata": {},
   "outputs": [],
   "source": [
    "df=df.drop(columns=['CustomerID'],errors='ignore')"
   ]
  },
  {
   "cell_type": "code",
   "execution_count": 6,
   "id": "8e0caee0",
   "metadata": {},
   "outputs": [],
   "source": [
    "df['Churn']=df['Churn'].map({'Yes':1,'No':0})"
   ]
  },
  {
   "cell_type": "markdown",
   "id": "0013cd6c",
   "metadata": {},
   "source": [
    "## Identify categorical columns"
   ]
  },
  {
   "cell_type": "code",
   "execution_count": 7,
   "id": "1e1442c0",
   "metadata": {},
   "outputs": [],
   "source": [
    "categorical_columns = df.select_dtypes(include=['object']).columns"
   ]
  },
  {
   "cell_type": "markdown",
   "id": "12e97b17",
   "metadata": {},
   "source": [
    "## OneHotEncode categorical columns"
   ]
  },
  {
   "cell_type": "code",
   "execution_count": 10,
   "id": "be06307d",
   "metadata": {},
   "outputs": [],
   "source": [
    "from sklearn.preprocessing import OneHotEncoder\n",
    "encoder = OneHotEncoder(sparse_output=False, drop='first')\n",
    "encoded = pd.DataFrame(encoder.fit_transform(df[categorical_columns]), \n",
    "                       columns=encoder.get_feature_names_out(categorical_columns))"
   ]
  },
  {
   "cell_type": "markdown",
   "id": "ceb5f474",
   "metadata": {},
   "source": [
    "## Combine encoded columns with numeric columns"
   ]
  },
  {
   "cell_type": "code",
   "execution_count": 11,
   "id": "1e89a27d",
   "metadata": {},
   "outputs": [],
   "source": [
    "df = pd.concat([df.select_dtypes(exclude=['object']), encoded], axis=1)"
   ]
  },
  {
   "cell_type": "markdown",
   "id": "76983863",
   "metadata": {},
   "source": [
    "## Fill missing values with median"
   ]
  },
  {
   "cell_type": "code",
   "execution_count": 12,
   "id": "901f862e",
   "metadata": {},
   "outputs": [],
   "source": [
    "df.fillna(df.median(), inplace=True)"
   ]
  },
  {
   "cell_type": "markdown",
   "id": "3f2552e4",
   "metadata": {},
   "source": [
    "## Seprate features and taget variable"
   ]
  },
  {
   "cell_type": "code",
   "execution_count": 15,
   "id": "c8f88169",
   "metadata": {},
   "outputs": [],
   "source": [
    "X = df.drop(columns=['Churn'])\n",
    "y = df['Churn']"
   ]
  },
  {
   "cell_type": "markdown",
   "id": "e0bd6a84",
   "metadata": {},
   "source": [
    "## Identify key Factors using Feature Importance\n",
    "### Train a Random Forest Classifier"
   ]
  },
  {
   "cell_type": "code",
   "execution_count": 16,
   "id": "26de2b94",
   "metadata": {},
   "outputs": [
    {
     "data": {
      "text/html": [
       "<style>#sk-container-id-1 {color: black;}#sk-container-id-1 pre{padding: 0;}#sk-container-id-1 div.sk-toggleable {background-color: white;}#sk-container-id-1 label.sk-toggleable__label {cursor: pointer;display: block;width: 100%;margin-bottom: 0;padding: 0.3em;box-sizing: border-box;text-align: center;}#sk-container-id-1 label.sk-toggleable__label-arrow:before {content: \"▸\";float: left;margin-right: 0.25em;color: #696969;}#sk-container-id-1 label.sk-toggleable__label-arrow:hover:before {color: black;}#sk-container-id-1 div.sk-estimator:hover label.sk-toggleable__label-arrow:before {color: black;}#sk-container-id-1 div.sk-toggleable__content {max-height: 0;max-width: 0;overflow: hidden;text-align: left;background-color: #f0f8ff;}#sk-container-id-1 div.sk-toggleable__content pre {margin: 0.2em;color: black;border-radius: 0.25em;background-color: #f0f8ff;}#sk-container-id-1 input.sk-toggleable__control:checked~div.sk-toggleable__content {max-height: 200px;max-width: 100%;overflow: auto;}#sk-container-id-1 input.sk-toggleable__control:checked~label.sk-toggleable__label-arrow:before {content: \"▾\";}#sk-container-id-1 div.sk-estimator input.sk-toggleable__control:checked~label.sk-toggleable__label {background-color: #d4ebff;}#sk-container-id-1 div.sk-label input.sk-toggleable__control:checked~label.sk-toggleable__label {background-color: #d4ebff;}#sk-container-id-1 input.sk-hidden--visually {border: 0;clip: rect(1px 1px 1px 1px);clip: rect(1px, 1px, 1px, 1px);height: 1px;margin: -1px;overflow: hidden;padding: 0;position: absolute;width: 1px;}#sk-container-id-1 div.sk-estimator {font-family: monospace;background-color: #f0f8ff;border: 1px dotted black;border-radius: 0.25em;box-sizing: border-box;margin-bottom: 0.5em;}#sk-container-id-1 div.sk-estimator:hover {background-color: #d4ebff;}#sk-container-id-1 div.sk-parallel-item::after {content: \"\";width: 100%;border-bottom: 1px solid gray;flex-grow: 1;}#sk-container-id-1 div.sk-label:hover label.sk-toggleable__label {background-color: #d4ebff;}#sk-container-id-1 div.sk-serial::before {content: \"\";position: absolute;border-left: 1px solid gray;box-sizing: border-box;top: 0;bottom: 0;left: 50%;z-index: 0;}#sk-container-id-1 div.sk-serial {display: flex;flex-direction: column;align-items: center;background-color: white;padding-right: 0.2em;padding-left: 0.2em;position: relative;}#sk-container-id-1 div.sk-item {position: relative;z-index: 1;}#sk-container-id-1 div.sk-parallel {display: flex;align-items: stretch;justify-content: center;background-color: white;position: relative;}#sk-container-id-1 div.sk-item::before, #sk-container-id-1 div.sk-parallel-item::before {content: \"\";position: absolute;border-left: 1px solid gray;box-sizing: border-box;top: 0;bottom: 0;left: 50%;z-index: -1;}#sk-container-id-1 div.sk-parallel-item {display: flex;flex-direction: column;z-index: 1;position: relative;background-color: white;}#sk-container-id-1 div.sk-parallel-item:first-child::after {align-self: flex-end;width: 50%;}#sk-container-id-1 div.sk-parallel-item:last-child::after {align-self: flex-start;width: 50%;}#sk-container-id-1 div.sk-parallel-item:only-child::after {width: 0;}#sk-container-id-1 div.sk-dashed-wrapped {border: 1px dashed gray;margin: 0 0.4em 0.5em 0.4em;box-sizing: border-box;padding-bottom: 0.4em;background-color: white;}#sk-container-id-1 div.sk-label label {font-family: monospace;font-weight: bold;display: inline-block;line-height: 1.2em;}#sk-container-id-1 div.sk-label-container {text-align: center;}#sk-container-id-1 div.sk-container {/* jupyter's `normalize.less` sets `[hidden] { display: none; }` but bootstrap.min.css set `[hidden] { display: none !important; }` so we also need the `!important` here to be able to override the default hidden behavior on the sphinx rendered scikit-learn.org. See: https://github.com/scikit-learn/scikit-learn/issues/21755 */display: inline-block !important;position: relative;}#sk-container-id-1 div.sk-text-repr-fallback {display: none;}</style><div id=\"sk-container-id-1\" class=\"sk-top-container\"><div class=\"sk-text-repr-fallback\"><pre>RandomForestClassifier(random_state=42)</pre><b>In a Jupyter environment, please rerun this cell to show the HTML representation or trust the notebook. <br />On GitHub, the HTML representation is unable to render, please try loading this page with nbviewer.org.</b></div><div class=\"sk-container\" hidden><div class=\"sk-item\"><div class=\"sk-estimator sk-toggleable\"><input class=\"sk-toggleable__control sk-hidden--visually\" id=\"sk-estimator-id-1\" type=\"checkbox\" checked><label for=\"sk-estimator-id-1\" class=\"sk-toggleable__label sk-toggleable__label-arrow\">RandomForestClassifier</label><div class=\"sk-toggleable__content\"><pre>RandomForestClassifier(random_state=42)</pre></div></div></div></div></div>"
      ],
      "text/plain": [
       "RandomForestClassifier(random_state=42)"
      ]
     },
     "execution_count": 16,
     "metadata": {},
     "output_type": "execute_result"
    }
   ],
   "source": [
    "model = RandomForestClassifier(random_state=42)\n",
    "model.fit(X, y)"
   ]
  },
  {
   "cell_type": "markdown",
   "id": "d3195a2b",
   "metadata": {},
   "source": [
    "## Extract feature importance"
   ]
  },
  {
   "cell_type": "code",
   "execution_count": 17,
   "id": "64478ce4",
   "metadata": {},
   "outputs": [],
   "source": [
    "feature_importance = pd.DataFrame({'Feature': X.columns, 'Importance': model.feature_importances_})\n",
    "feature_importance = feature_importance.sort_values(by='Importance', ascending=False)"
   ]
  },
  {
   "cell_type": "code",
   "execution_count": 18,
   "id": "8fd7f5a7",
   "metadata": {},
   "outputs": [
    {
     "name": "stdout",
     "output_type": "stream",
     "text": [
      "Key Factors Influencing Churn:\n",
      "                             Feature  Importance\n",
      "1                             tenure    0.084299\n",
      "2                     MonthlyCharges    0.054242\n",
      "7051     InternetService_Fiber optic    0.025475\n",
      "7069  PaymentMethod_Electronic check    0.024179\n",
      "7066               Contract_Two year    0.021114\n"
     ]
    }
   ],
   "source": [
    "print(\"Key Factors Influencing Churn:\")\n",
    "print(feature_importance.head())"
   ]
  },
  {
   "cell_type": "markdown",
   "id": "918a844a",
   "metadata": {},
   "source": [
    "## Propose Retention Strategies"
   ]
  },
  {
   "cell_type": "code",
   "execution_count": 19,
   "id": "7d430c70",
   "metadata": {},
   "outputs": [
    {
     "name": "stdout",
     "output_type": "stream",
     "text": [
      "\n",
      "Retention Strategies:\n",
      "1. Focus on improving services for customers with short tenure.\n",
      "2. Offer discounts or incentives for customers on month-to-month contracts.\n",
      "3. Address complaints from customers with high monthly charges.\n"
     ]
    }
   ],
   "source": [
    "print(\"\\nRetention Strategies:\")\n",
    "print(\"1. Focus on improving services for customers with short tenure.\")\n",
    "print(\"2. Offer discounts or incentives for customers on month-to-month contracts.\")\n",
    "print(\"3. Address complaints from customers with high monthly charges.\")"
   ]
  },
  {
   "cell_type": "markdown",
   "id": "c52dd818",
   "metadata": {},
   "source": [
    "## Calculate Customer Lifetime Value(CLV)"
   ]
  },
  {
   "cell_type": "code",
   "execution_count": 20,
   "id": "6ff245fb",
   "metadata": {},
   "outputs": [],
   "source": [
    "df['CLV'] = df['MonthlyCharges'] * df['tenure']\n",
    "high_value_customers = df[df['CLV'] > df['CLV'].quantile(0.9)]\n",
    "at_risk_customers = high_value_customers[high_value_customers['Churn'] == 1]"
   ]
  },
  {
   "cell_type": "code",
   "execution_count": 21,
   "id": "e7fccf7e",
   "metadata": {},
   "outputs": [
    {
     "name": "stdout",
     "output_type": "stream",
     "text": [
      "\n",
      "High-Value Customers at Risk of Churning:\n",
      "          CLV  tenure  MonthlyCharges\n",
      "104   7480.00      68          110.00\n",
      "339   6514.20      63          103.40\n",
      "402   6862.05      69           99.45\n",
      "445   6354.00      60          105.90\n",
      "609   6841.25      65          105.25\n",
      "...       ...     ...             ...\n",
      "6785  6807.60      61          111.60\n",
      "6853  5999.40      54          111.10\n",
      "6945  6881.00      70           98.30\n",
      "6972  6269.20      56          111.95\n",
      "7034  6897.65      67          102.95\n",
      "\n",
      "[86 rows x 3 columns]\n"
     ]
    }
   ],
   "source": [
    "print(\"\\nHigh-Value Customers at Risk of Churning:\")\n",
    "print(at_risk_customers[['CLV', 'tenure', 'MonthlyCharges']])"
   ]
  }
 ],
 "metadata": {
  "kernelspec": {
   "display_name": "Python 3 (ipykernel)",
   "language": "python",
   "name": "python3"
  },
  "language_info": {
   "codemirror_mode": {
    "name": "ipython",
    "version": 3
   },
   "file_extension": ".py",
   "mimetype": "text/x-python",
   "name": "python",
   "nbconvert_exporter": "python",
   "pygments_lexer": "ipython3",
   "version": "3.11.5"
  }
 },
 "nbformat": 4,
 "nbformat_minor": 5
}
