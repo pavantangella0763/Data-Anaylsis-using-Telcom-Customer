{
 "cells": [
  {
   "cell_type": "markdown",
   "id": "61a5282b",
   "metadata": {},
   "source": [
    "# Task - 3\n",
    "# Customer Segmentation"
   ]
  },
  {
   "cell_type": "code",
   "execution_count": 2,
   "id": "e7459067",
   "metadata": {},
   "outputs": [],
   "source": [
    "import pandas as pd\n",
    "import numpy as np\n",
    "import seaborn as sns\n",
    "import matplotlib.pyplot as pt\n",
    "from sklearn.cluster import KMeans"
   ]
  },
  {
   "cell_type": "code",
   "execution_count": 4,
   "id": "76b1ede4",
   "metadata": {},
   "outputs": [],
   "source": [
    "df=pd.read_csv(\"Telco-Customer-Churn.csv\")"
   ]
  },
  {
   "cell_type": "code",
   "execution_count": 6,
   "id": "0aba772e",
   "metadata": {},
   "outputs": [],
   "source": [
    "df = pd.get_dummies(df, columns=['Contract'], prefix='Contract')"
   ]
  },
  {
   "cell_type": "markdown",
   "id": "27e8be0d",
   "metadata": {},
   "source": [
    "## Segment customers based on tenure, monthly charges, and contract type"
   ]
  },
  {
   "cell_type": "code",
   "execution_count": 8,
   "id": "04575f4f",
   "metadata": {},
   "outputs": [],
   "source": [
    "features= df[['tenure','MonthlyCharges','Contract_One year', 'Contract_Two year']]\n",
    "kmeans= KMeans(n_clusters=3,n_init=10, random_state=42)\n",
    "df['Segment']=kmeans.fit_predict(features)"
   ]
  },
  {
   "cell_type": "code",
   "execution_count": 10,
   "id": "a90ee486",
   "metadata": {},
   "outputs": [],
   "source": [
    "df['Churn']=df['Churn'].replace({'Yes':1,'No':0})"
   ]
  },
  {
   "cell_type": "markdown",
   "id": "9218ccc3",
   "metadata": {},
   "source": [
    "## Analyze churn rates across segments"
   ]
  },
  {
   "cell_type": "code",
   "execution_count": 11,
   "id": "f1caf816",
   "metadata": {},
   "outputs": [
    {
     "name": "stdout",
     "output_type": "stream",
     "text": [
      "Churn Rates by Segment:\n",
      "Segment\n",
      "0    0.155586\n",
      "1    0.476152\n",
      "2    0.150063\n",
      "Name: Churn, dtype: float64\n"
     ]
    }
   ],
   "source": [
    "segment_churn_rates = df.groupby('Segment')['Churn'].mean()\n",
    "print(\"Churn Rates by Segment:\")\n",
    "print(segment_churn_rates)"
   ]
  },
  {
   "cell_type": "code",
   "execution_count": null,
   "id": "dd673a67",
   "metadata": {},
   "outputs": [],
   "source": []
  }
 ],
 "metadata": {
  "kernelspec": {
   "display_name": "Python 3 (ipykernel)",
   "language": "python",
   "name": "python3"
  },
  "language_info": {
   "codemirror_mode": {
    "name": "ipython",
    "version": 3
   },
   "file_extension": ".py",
   "mimetype": "text/x-python",
   "name": "python",
   "nbconvert_exporter": "python",
   "pygments_lexer": "ipython3",
   "version": "3.11.5"
  }
 },
 "nbformat": 4,
 "nbformat_minor": 5
}
